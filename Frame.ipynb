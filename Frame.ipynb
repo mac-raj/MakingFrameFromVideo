{
  "nbformat": 4,
  "nbformat_minor": 0,
  "metadata": {
    "colab": {
      "provenance": [],
      "include_colab_link": true
    },
    "kernelspec": {
      "name": "python3",
      "display_name": "Python 3"
    },
    "accelerator": "GPU"
  },
  "cells": [
    {
      "cell_type": "markdown",
      "metadata": {
        "id": "view-in-github",
        "colab_type": "text"
      },
      "source": [
        "<a href=\"https://colab.research.google.com/github/mac-raj/MakingFrameFromVideo/blob/main/Frame.ipynb\" target=\"_parent\"><img src=\"https://colab.research.google.com/assets/colab-badge.svg\" alt=\"Open In Colab\"/></a>"
      ]
    },
    {
      "metadata": {
        "id": "ZGM3NjkRVsPJ"
      },
      "cell_type": "markdown",
      "source": [
        "<b>Getting Started with Jupyter</b>"
      ]
    },
    {
      "metadata": {
        "id": "nD2r_Zk0VsPL",
        "outputId": "4f2e415d-73e3-4c8e-efb1-aad327b2b638",
        "colab": {
          "base_uri": "https://localhost:8080/"
        }
      },
      "cell_type": "code",
      "source": [
        "#The \"magic\" command below imports numpy and pyplot and\n",
        "# sets us up to make nice interactive plots within the notebook\n",
        "%pylab notebook"
      ],
      "execution_count": 1,
      "outputs": [
        {
          "output_type": "stream",
          "name": "stdout",
          "text": [
            "Populating the interactive namespace from numpy and matplotlib\n"
          ]
        }
      ]
    },
    {
      "metadata": {
        "id": "TgU-WILWVsPX",
        "outputId": "55129ede-5b85-495d-ab11-8f9156612e8e",
        "colab": {
          "base_uri": "https://localhost:8080/"
        }
      },
      "cell_type": "code",
      "source": [
        "#Let's make sure our libraries are installed correctly\n",
        "import cv2\n",
        "import tensorflow as tf\n",
        "import dlib\n",
        "!pip install pytesseract\n",
        "import pytesseract as ptess"
      ],
      "execution_count": 2,
      "outputs": [
        {
          "output_type": "stream",
          "name": "stdout",
          "text": [
            "Looking in indexes: https://pypi.org/simple, https://us-python.pkg.dev/colab-wheels/public/simple/\n",
            "Requirement already satisfied: pytesseract in /usr/local/lib/python3.9/dist-packages (0.3.10)\n",
            "Requirement already satisfied: packaging>=21.3 in /usr/local/lib/python3.9/dist-packages (from pytesseract) (23.0)\n",
            "Requirement already satisfied: Pillow>=8.0.0 in /usr/local/lib/python3.9/dist-packages (from pytesseract) (8.4.0)\n"
          ]
        }
      ]
    },
    {
      "metadata": {
        "id": "5wwkLtq_VsPd"
      },
      "cell_type": "code",
      "source": [
        "#Here's a nice way to get help on a module/function from within the notebook\n",
        "tf.Graph?"
      ],
      "execution_count": 3,
      "outputs": []
    },
    {
      "metadata": {
        "id": "tqyHsgW8VsPn",
        "outputId": "3a79b043-d934-49d9-f10a-48fc407b2415",
        "colab": {
          "base_uri": "https://localhost:8080/"
        }
      },
      "cell_type": "code",
      "source": [
        "#We can run shell commands here too--very handy!\n",
        "!ls 'content/gdrive/My Drive/CV Project/Section1-Getting_started/'"
      ],
      "execution_count": 4,
      "outputs": [
        {
          "output_type": "stream",
          "name": "stdout",
          "text": [
            "ls: cannot access 'content/gdrive/My Drive/CV Project/Section1-Getting_started/': No such file or directory\n"
          ]
        }
      ]
    },
    {
      "metadata": {
        "id": "__4KK3FnhrEi",
        "outputId": "cf54555c-0d20-48c9-c3ca-41aaf3dfc65d",
        "colab": {
          "base_uri": "https://localhost:8080/"
        }
      },
      "cell_type": "code",
      "source": [
        "from google.colab import drive\n",
        "\n",
        "drive.mount('/content/gdrive')"
      ],
      "execution_count": 5,
      "outputs": [
        {
          "output_type": "stream",
          "name": "stdout",
          "text": [
            "Drive already mounted at /content/gdrive; to attempt to forcibly remount, call drive.mount(\"/content/gdrive\", force_remount=True).\n"
          ]
        }
      ]
    },
    {
      "metadata": {
        "id": "QU4VZrhJk80O"
      },
      "cell_type": "code",
      "source": [
        "import os\n",
        "os.chdir('gdrive/My Drive/CV Project/Section1-Getting_started')\n",
        " "
      ],
      "execution_count": 6,
      "outputs": []
    },
    {
      "metadata": {
        "id": "UsW2hUsIon9c",
        "colab": {
          "base_uri": "https://localhost:8080/"
        },
        "outputId": "1e7facb0-3a9f-4d84-e90b-0a5b773d6f45"
      },
      "cell_type": "code",
      "source": [
        "!ls"
      ],
      "execution_count": 7,
      "outputs": [
        {
          "output_type": "stream",
          "name": "stdout",
          "text": [
            "data  download.mp4\n"
          ]
        }
      ]
    },
    {
      "metadata": {
        "id": "IHFeIan4VsQL"
      },
      "cell_type": "code",
      "source": [
        "# Read the video from specified path\n",
        "vid = cv2.VideoCapture(\"/content/gdrive/MyDrive/CV Project/Section1-Getting_started/download.mp4\")"
      ],
      "execution_count": 8,
      "outputs": []
    },
    {
      "cell_type": "code",
      "source": [
        "try:\n",
        "    # creating a folder named data\n",
        "    if not os.path.exists('data'):\n",
        "        os.makedirs('data')\n",
        "\n",
        "# if not created then raise error\n",
        "except OSError:\n",
        "    print('Error: Creating directory of data')"
      ],
      "metadata": {
        "id": "RjvFHPJYpRj_"
      },
      "execution_count": 9,
      "outputs": []
    },
    {
      "cell_type": "code",
      "source": [
        "# frame\n",
        "currentframe = 0"
      ],
      "metadata": {
        "id": "HbWogN4XpWtH"
      },
      "execution_count": 10,
      "outputs": []
    },
    {
      "cell_type": "code",
      "source": [
        "while (True):\n",
        "\n",
        "    # reading from frame\n",
        "    success, frame = vid.read()\n",
        "\n",
        "    if success:\n",
        "        # continue creating images until video remains\n",
        "        name = './data/frame' + str(currentframe) + '.jpg'\n",
        "        print('Creating...' + name)\n",
        "\n",
        "        # writing the extracted images\n",
        "        cv2.imwrite(name, frame)\n",
        "\n",
        "        # increasing counter so that it will\n",
        "        # show how many frames are created\n",
        "        currentframe += 1\n",
        "    else:\n",
        "        break\n",
        "\n",
        "# Release all space and windows once done\n",
        "vid.release()\n",
        "cv2.destroyAllWindows()"
      ],
      "metadata": {
        "colab": {
          "base_uri": "https://localhost:8080/"
        },
        "id": "AUg7hVKcpYin",
        "outputId": "b78e29d7-141d-46a7-bcef-7bfc8a9c79b6"
      },
      "execution_count": 11,
      "outputs": [
        {
          "output_type": "stream",
          "name": "stdout",
          "text": [
            "Creating..../data/frame0.jpg\n",
            "Creating..../data/frame1.jpg\n",
            "Creating..../data/frame2.jpg\n",
            "Creating..../data/frame3.jpg\n",
            "Creating..../data/frame4.jpg\n",
            "Creating..../data/frame5.jpg\n",
            "Creating..../data/frame6.jpg\n",
            "Creating..../data/frame7.jpg\n",
            "Creating..../data/frame8.jpg\n",
            "Creating..../data/frame9.jpg\n",
            "Creating..../data/frame10.jpg\n",
            "Creating..../data/frame11.jpg\n",
            "Creating..../data/frame12.jpg\n",
            "Creating..../data/frame13.jpg\n",
            "Creating..../data/frame14.jpg\n",
            "Creating..../data/frame15.jpg\n",
            "Creating..../data/frame16.jpg\n",
            "Creating..../data/frame17.jpg\n",
            "Creating..../data/frame18.jpg\n",
            "Creating..../data/frame19.jpg\n",
            "Creating..../data/frame20.jpg\n",
            "Creating..../data/frame21.jpg\n",
            "Creating..../data/frame22.jpg\n",
            "Creating..../data/frame23.jpg\n",
            "Creating..../data/frame24.jpg\n",
            "Creating..../data/frame25.jpg\n",
            "Creating..../data/frame26.jpg\n",
            "Creating..../data/frame27.jpg\n",
            "Creating..../data/frame28.jpg\n",
            "Creating..../data/frame29.jpg\n",
            "Creating..../data/frame30.jpg\n",
            "Creating..../data/frame31.jpg\n",
            "Creating..../data/frame32.jpg\n",
            "Creating..../data/frame33.jpg\n",
            "Creating..../data/frame34.jpg\n",
            "Creating..../data/frame35.jpg\n",
            "Creating..../data/frame36.jpg\n",
            "Creating..../data/frame37.jpg\n",
            "Creating..../data/frame38.jpg\n",
            "Creating..../data/frame39.jpg\n",
            "Creating..../data/frame40.jpg\n",
            "Creating..../data/frame41.jpg\n",
            "Creating..../data/frame42.jpg\n",
            "Creating..../data/frame43.jpg\n",
            "Creating..../data/frame44.jpg\n",
            "Creating..../data/frame45.jpg\n",
            "Creating..../data/frame46.jpg\n",
            "Creating..../data/frame47.jpg\n",
            "Creating..../data/frame48.jpg\n",
            "Creating..../data/frame49.jpg\n",
            "Creating..../data/frame50.jpg\n",
            "Creating..../data/frame51.jpg\n",
            "Creating..../data/frame52.jpg\n",
            "Creating..../data/frame53.jpg\n",
            "Creating..../data/frame54.jpg\n",
            "Creating..../data/frame55.jpg\n",
            "Creating..../data/frame56.jpg\n",
            "Creating..../data/frame57.jpg\n",
            "Creating..../data/frame58.jpg\n",
            "Creating..../data/frame59.jpg\n",
            "Creating..../data/frame60.jpg\n",
            "Creating..../data/frame61.jpg\n",
            "Creating..../data/frame62.jpg\n",
            "Creating..../data/frame63.jpg\n",
            "Creating..../data/frame64.jpg\n",
            "Creating..../data/frame65.jpg\n",
            "Creating..../data/frame66.jpg\n",
            "Creating..../data/frame67.jpg\n",
            "Creating..../data/frame68.jpg\n",
            "Creating..../data/frame69.jpg\n",
            "Creating..../data/frame70.jpg\n",
            "Creating..../data/frame71.jpg\n",
            "Creating..../data/frame72.jpg\n",
            "Creating..../data/frame73.jpg\n",
            "Creating..../data/frame74.jpg\n",
            "Creating..../data/frame75.jpg\n",
            "Creating..../data/frame76.jpg\n",
            "Creating..../data/frame77.jpg\n",
            "Creating..../data/frame78.jpg\n",
            "Creating..../data/frame79.jpg\n",
            "Creating..../data/frame80.jpg\n",
            "Creating..../data/frame81.jpg\n",
            "Creating..../data/frame82.jpg\n",
            "Creating..../data/frame83.jpg\n",
            "Creating..../data/frame84.jpg\n",
            "Creating..../data/frame85.jpg\n",
            "Creating..../data/frame86.jpg\n",
            "Creating..../data/frame87.jpg\n",
            "Creating..../data/frame88.jpg\n",
            "Creating..../data/frame89.jpg\n",
            "Creating..../data/frame90.jpg\n",
            "Creating..../data/frame91.jpg\n",
            "Creating..../data/frame92.jpg\n",
            "Creating..../data/frame93.jpg\n",
            "Creating..../data/frame94.jpg\n",
            "Creating..../data/frame95.jpg\n",
            "Creating..../data/frame96.jpg\n",
            "Creating..../data/frame97.jpg\n",
            "Creating..../data/frame98.jpg\n",
            "Creating..../data/frame99.jpg\n",
            "Creating..../data/frame100.jpg\n",
            "Creating..../data/frame101.jpg\n",
            "Creating..../data/frame102.jpg\n",
            "Creating..../data/frame103.jpg\n",
            "Creating..../data/frame104.jpg\n",
            "Creating..../data/frame105.jpg\n",
            "Creating..../data/frame106.jpg\n",
            "Creating..../data/frame107.jpg\n",
            "Creating..../data/frame108.jpg\n",
            "Creating..../data/frame109.jpg\n",
            "Creating..../data/frame110.jpg\n",
            "Creating..../data/frame111.jpg\n",
            "Creating..../data/frame112.jpg\n",
            "Creating..../data/frame113.jpg\n",
            "Creating..../data/frame114.jpg\n",
            "Creating..../data/frame115.jpg\n",
            "Creating..../data/frame116.jpg\n",
            "Creating..../data/frame117.jpg\n",
            "Creating..../data/frame118.jpg\n",
            "Creating..../data/frame119.jpg\n",
            "Creating..../data/frame120.jpg\n",
            "Creating..../data/frame121.jpg\n",
            "Creating..../data/frame122.jpg\n",
            "Creating..../data/frame123.jpg\n",
            "Creating..../data/frame124.jpg\n",
            "Creating..../data/frame125.jpg\n",
            "Creating..../data/frame126.jpg\n",
            "Creating..../data/frame127.jpg\n",
            "Creating..../data/frame128.jpg\n",
            "Creating..../data/frame129.jpg\n",
            "Creating..../data/frame130.jpg\n",
            "Creating..../data/frame131.jpg\n",
            "Creating..../data/frame132.jpg\n",
            "Creating..../data/frame133.jpg\n",
            "Creating..../data/frame134.jpg\n",
            "Creating..../data/frame135.jpg\n",
            "Creating..../data/frame136.jpg\n",
            "Creating..../data/frame137.jpg\n",
            "Creating..../data/frame138.jpg\n",
            "Creating..../data/frame139.jpg\n",
            "Creating..../data/frame140.jpg\n",
            "Creating..../data/frame141.jpg\n",
            "Creating..../data/frame142.jpg\n",
            "Creating..../data/frame143.jpg\n",
            "Creating..../data/frame144.jpg\n",
            "Creating..../data/frame145.jpg\n",
            "Creating..../data/frame146.jpg\n",
            "Creating..../data/frame147.jpg\n",
            "Creating..../data/frame148.jpg\n",
            "Creating..../data/frame149.jpg\n",
            "Creating..../data/frame150.jpg\n",
            "Creating..../data/frame151.jpg\n",
            "Creating..../data/frame152.jpg\n",
            "Creating..../data/frame153.jpg\n",
            "Creating..../data/frame154.jpg\n",
            "Creating..../data/frame155.jpg\n",
            "Creating..../data/frame156.jpg\n",
            "Creating..../data/frame157.jpg\n",
            "Creating..../data/frame158.jpg\n",
            "Creating..../data/frame159.jpg\n",
            "Creating..../data/frame160.jpg\n",
            "Creating..../data/frame161.jpg\n",
            "Creating..../data/frame162.jpg\n",
            "Creating..../data/frame163.jpg\n",
            "Creating..../data/frame164.jpg\n",
            "Creating..../data/frame165.jpg\n",
            "Creating..../data/frame166.jpg\n",
            "Creating..../data/frame167.jpg\n",
            "Creating..../data/frame168.jpg\n",
            "Creating..../data/frame169.jpg\n",
            "Creating..../data/frame170.jpg\n",
            "Creating..../data/frame171.jpg\n",
            "Creating..../data/frame172.jpg\n",
            "Creating..../data/frame173.jpg\n",
            "Creating..../data/frame174.jpg\n",
            "Creating..../data/frame175.jpg\n",
            "Creating..../data/frame176.jpg\n",
            "Creating..../data/frame177.jpg\n",
            "Creating..../data/frame178.jpg\n",
            "Creating..../data/frame179.jpg\n",
            "Creating..../data/frame180.jpg\n",
            "Creating..../data/frame181.jpg\n",
            "Creating..../data/frame182.jpg\n",
            "Creating..../data/frame183.jpg\n",
            "Creating..../data/frame184.jpg\n",
            "Creating..../data/frame185.jpg\n",
            "Creating..../data/frame186.jpg\n",
            "Creating..../data/frame187.jpg\n",
            "Creating..../data/frame188.jpg\n",
            "Creating..../data/frame189.jpg\n",
            "Creating..../data/frame190.jpg\n",
            "Creating..../data/frame191.jpg\n",
            "Creating..../data/frame192.jpg\n",
            "Creating..../data/frame193.jpg\n",
            "Creating..../data/frame194.jpg\n",
            "Creating..../data/frame195.jpg\n",
            "Creating..../data/frame196.jpg\n",
            "Creating..../data/frame197.jpg\n",
            "Creating..../data/frame198.jpg\n",
            "Creating..../data/frame199.jpg\n",
            "Creating..../data/frame200.jpg\n",
            "Creating..../data/frame201.jpg\n",
            "Creating..../data/frame202.jpg\n",
            "Creating..../data/frame203.jpg\n",
            "Creating..../data/frame204.jpg\n",
            "Creating..../data/frame205.jpg\n",
            "Creating..../data/frame206.jpg\n",
            "Creating..../data/frame207.jpg\n",
            "Creating..../data/frame208.jpg\n",
            "Creating..../data/frame209.jpg\n",
            "Creating..../data/frame210.jpg\n",
            "Creating..../data/frame211.jpg\n",
            "Creating..../data/frame212.jpg\n",
            "Creating..../data/frame213.jpg\n",
            "Creating..../data/frame214.jpg\n",
            "Creating..../data/frame215.jpg\n",
            "Creating..../data/frame216.jpg\n",
            "Creating..../data/frame217.jpg\n",
            "Creating..../data/frame218.jpg\n",
            "Creating..../data/frame219.jpg\n",
            "Creating..../data/frame220.jpg\n",
            "Creating..../data/frame221.jpg\n",
            "Creating..../data/frame222.jpg\n",
            "Creating..../data/frame223.jpg\n",
            "Creating..../data/frame224.jpg\n",
            "Creating..../data/frame225.jpg\n",
            "Creating..../data/frame226.jpg\n",
            "Creating..../data/frame227.jpg\n",
            "Creating..../data/frame228.jpg\n",
            "Creating..../data/frame229.jpg\n",
            "Creating..../data/frame230.jpg\n",
            "Creating..../data/frame231.jpg\n",
            "Creating..../data/frame232.jpg\n",
            "Creating..../data/frame233.jpg\n",
            "Creating..../data/frame234.jpg\n",
            "Creating..../data/frame235.jpg\n",
            "Creating..../data/frame236.jpg\n",
            "Creating..../data/frame237.jpg\n",
            "Creating..../data/frame238.jpg\n",
            "Creating..../data/frame239.jpg\n",
            "Creating..../data/frame240.jpg\n",
            "Creating..../data/frame241.jpg\n",
            "Creating..../data/frame242.jpg\n",
            "Creating..../data/frame243.jpg\n",
            "Creating..../data/frame244.jpg\n",
            "Creating..../data/frame245.jpg\n",
            "Creating..../data/frame246.jpg\n",
            "Creating..../data/frame247.jpg\n",
            "Creating..../data/frame248.jpg\n",
            "Creating..../data/frame249.jpg\n",
            "Creating..../data/frame250.jpg\n",
            "Creating..../data/frame251.jpg\n",
            "Creating..../data/frame252.jpg\n",
            "Creating..../data/frame253.jpg\n",
            "Creating..../data/frame254.jpg\n",
            "Creating..../data/frame255.jpg\n",
            "Creating..../data/frame256.jpg\n",
            "Creating..../data/frame257.jpg\n",
            "Creating..../data/frame258.jpg\n",
            "Creating..../data/frame259.jpg\n",
            "Creating..../data/frame260.jpg\n",
            "Creating..../data/frame261.jpg\n",
            "Creating..../data/frame262.jpg\n",
            "Creating..../data/frame263.jpg\n",
            "Creating..../data/frame264.jpg\n",
            "Creating..../data/frame265.jpg\n",
            "Creating..../data/frame266.jpg\n",
            "Creating..../data/frame267.jpg\n",
            "Creating..../data/frame268.jpg\n",
            "Creating..../data/frame269.jpg\n",
            "Creating..../data/frame270.jpg\n"
          ]
        }
      ]
    },
    {
      "cell_type": "code",
      "source": [],
      "metadata": {
        "id": "OfdxwFbUpeWc"
      },
      "execution_count": 11,
      "outputs": []
    }
  ]
}